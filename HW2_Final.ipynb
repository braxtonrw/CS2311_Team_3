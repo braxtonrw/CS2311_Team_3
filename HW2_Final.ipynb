{
 "cells": [
  {
   "cell_type": "markdown",
   "metadata": {},
   "source": [
    "# CS1311-Introduction to Programming with Python\n",
    "## Homework 1\n",
    "## Due Date: See BlackBoard"
   ]
  },
  {
   "cell_type": "markdown",
   "metadata": {},
   "source": [
    "## Team Name (If applicable): [EDIT YOUR TEAM NAME HERE]"
   ]
  },
  {
   "cell_type": "markdown",
   "metadata": {},
   "source": [
    "## Student Name(s): [EDIT YOUR NAME(s) HERE]"
   ]
  },
  {
   "cell_type": "markdown",
   "metadata": {},
   "source": [
    "**SUBMISSION GUIDELINES**\n",
    "\n",
    "1. First design, develop and test your code in a Jupyter notebook or other development environment\n",
    "   - You can expirement and try different things in this notebook\n",
    "2. Then copy your final code and markdown cells into the Jupyter Notebook file (.ipynb) provided for the assignment and submit to Blackboard\n",
    "   - **Your submission file should be named HW2_Final.ipynb**\n",
    "   - I must be able to open and run your notebook in order to grade it\n",
    "3. Note that the Jupyter notebook provided for final submission may contain testing code to help you check that your output and expected match.  \n",
    "   - Follow the instructions in the notebook for copying your code and running the testing code\n",
    "   - The instructor may run additional tests to check that your code runs correctly\n",
    "4. If asked, also provide any supporting files or images requested in the assignment\n",
    "   - If there are multiple files to submit you should zip the files into one folder and submit the folder\n",
    "\n",
    "**GRADING CRITERIA:**\n",
    "1. Good documentation/comments and program readability using both markdown cells and code comments\n",
    "2. Algorithm/pseudo-code is explained in a markdown cell and is efficiently written\n",
    "3. Program runs correctly for test cases with no syntax errors or logical errors\n",
    "\n",
    "***The instructor should be able to reproduce your work from your notebook.***"
   ]
  },
  {
   "cell_type": "markdown",
   "metadata": {},
   "source": [
    "## Prob 1. [15 points] Comparing two text files"
   ]
  },
  {
   "cell_type": "markdown",
   "metadata": {},
   "source": [
    "### Algorithm Steps:\n",
    "1. task 1\n",
    "   - bullet \n",
    "2. task 2\n",
    "   - bullet\n",
    "3. ..."
   ]
  },
  {
   "cell_type": "code",
   "execution_count": 1,
   "metadata": {},
   "outputs": [],
   "source": [
    "# Code for this Problem is copied into this function that will be run the in main program\n",
    "def file_compare(myfile,correctfile):\n",
    "   \n",
    "    # *******************************************************************************\n",
    "    # ENTER YOUR FINAL CHECKED CODE AFTER THIS COMMENT BLOCK\n",
    "    # NOTE:  You may want to check and develop your code in another notebook before\n",
    "    # copying it here. \n",
    "    # YOUR CODE MUST BE CORRECTLY INDENTED OR IT WONT RUN\n",
    "    # *******************************************************************************\n",
    "    \n",
    "    "
   ]
  },
  {
   "cell_type": "code",
   "execution_count": 2,
   "metadata": {},
   "outputs": [
    {
     "name": "stdout",
     "output_type": "stream",
     "text": [
      "Line>    1  - same\n",
      "Line>    2  in myfile is different \n",
      "\n",
      "        CORRECT>>\n",
      "['20           7.00        38,696.84\\n']\n",
      "        MYFILE>>\n",
      "['30           7.00        76,122.55\\n'] \n",
      "\n",
      "Line>    3  - same\n",
      "Line>    4  in myfile is different \n",
      "\n",
      "        CORRECT>>\n",
      "['Question 1.B: Present Value Calculation:\\n']\n",
      "        MYFILE>>\n",
      "['Question 1.B: Present Value Calculation: \\n'] \n",
      "\n",
      "Line>    5  - same\n",
      "Line>    6  - same\n",
      "Line>    7  - same\n",
      "Line>    8  - same\n",
      "Line>    9  - same\n"
     ]
    }
   ],
   "source": [
    "# Run your code by calling the function \n",
    "# Always test your code to check that you get what you expect\n",
    "if __name__ == '__main__':\n",
    "    file1 = \"myfile.txt\"\n",
    "    file2 = \"correct.txt\"\n",
    "    file_compare(file1,file2)  "
   ]
  },
  {
   "cell_type": "markdown",
   "metadata": {},
   "source": [
    "## Prob 2. [20 points] Counting Duplicate Words"
   ]
  },
  {
   "cell_type": "markdown",
   "metadata": {},
   "source": [
    "### Algorithm Steps:\n",
    "1. task 1\n",
    "   - bullet \n",
    "2. task 2\n",
    "   - bullet\n",
    "3. ..."
   ]
  },
  {
   "cell_type": "code",
   "execution_count": 13,
   "metadata": {
    "code_folding": []
   },
   "outputs": [],
   "source": [
    "# Code for this Problem is copied into this function that will be run the in main program\n",
    "def p1_word_counts(text):\n",
    "\n",
    "    # *******************************************************************************\n",
    "    # EXPECTED OUTPUT FROM YOUR CODE\n",
    "    #\n",
    "    # The following is the expected output from your code that will be tested for\n",
    "    # By the 'DocTest' module.\n",
    "    # Do not change these lines or the test will fail. Your instructor may run \n",
    "    # additional test scenarios on your code so check your code carefully.\n",
    "    # *******************************************************************************\n",
    "    \"\"\"Tokenize a string\n",
    "        \n",
    "    >>> text = ('this is sample Text with several words this is more sample text with some different Words')\n",
    "    >>> p1_word_counts(text)\n",
    "    WORD        COUNT\n",
    "    is          2\n",
    "    sample      2\n",
    "    text        2\n",
    "    this        2\n",
    "    with        2\n",
    "    words       2\n",
    "    \n",
    "    >>> text = ('how much wood could a wood chuck chuck if a wood chuck could chuck wood')\n",
    "    >>> p1_word_counts(text)\n",
    "    WORD        COUNT\n",
    "    a           2\n",
    "    chuck       4\n",
    "    could       2\n",
    "    wood        4\n",
    "    \n",
    "    >>> text = ('this is the time for all good men to come to the aid of their country')\n",
    "    >>> p1_word_counts(text)\n",
    "    WORD        COUNT\n",
    "    the         2\n",
    "    to          2\n",
    "    \"\"\"\n",
    "\n",
    "    # *******************************************************************************\n",
    "    # ENTER YOUR FINAL CHECKED CODE AFTER THIS COMMENT BLOCK\n",
    "    # NOTE:  You may want to check and develop your code in another notebook before\n",
    "    # copying it here. \n",
    "    # YOUR CODE MUST BE CORRECTLY INDENTED OR IT WONT RUN\n",
    "    # *******************************************************************************\n",
    "\n",
    "   "
   ]
  },
  {
   "cell_type": "code",
   "execution_count": 14,
   "metadata": {
    "code_folding": [],
    "scrolled": true
   },
   "outputs": [
    {
     "name": "stdout",
     "output_type": "stream",
     "text": [
      "WORD        COUNT\n",
      "is          2\n",
      "sample      2\n",
      "text        2\n",
      "this        2\n",
      "with        2\n",
      "words       2\n",
      "\n",
      "WORD        COUNT\n",
      "the         2\n",
      "to          2\n",
      "\n",
      "WORD        COUNT\n",
      "a           2\n",
      "chuck       4\n",
      "could       2\n",
      "wood        4\n",
      "\n"
     ]
    }
   ],
   "source": [
    "# Run your code by calling the function \n",
    "# Always test your code to check that you get what you expect\n",
    "if __name__ == '__main__':\n",
    "    text = ('this is sample Text with several words ' +\n",
    "            'this is more sample text with some different Words')\n",
    "    p1_word_counts(text)\n",
    "    print()\n",
    "    \n",
    "    text = ('this is the time for all good men to come to the aid of their country')\n",
    "    p1_word_counts(text)\n",
    "    print()\n",
    "    \n",
    "    text = ('how much wood could a wood chuck chuck if a wood chuck could chuck wood')\n",
    "    p1_word_counts(text)\n",
    "    print()"
   ]
  },
  {
   "cell_type": "markdown",
   "metadata": {},
   "source": [
    "## Prob 3. [20 points] Duplicate Word Removal"
   ]
  },
  {
   "cell_type": "markdown",
   "metadata": {},
   "source": [
    "### Algorithm Steps:\n",
    "1. task 1\n",
    "   - bullet \n",
    "2. task 2\n",
    "   - bullet\n",
    "3. ..."
   ]
  },
  {
   "cell_type": "code",
   "execution_count": 3,
   "metadata": {
    "code_folding": []
   },
   "outputs": [],
   "source": [
    "# Code for this Problem is copied into this function that will be run the in main program\n",
    "def p2_unique_words(text):\n",
    "\n",
    "    # *******************************************************************************\n",
    "    # EXPECTED OUTPUT FROM YOUR CODE\n",
    "    #\n",
    "    # The following is the expected output from your code that will be tested for\n",
    "    # By the 'DocTest' module.\n",
    "    # Do not change these lines or the test will fail. Your instructor may run \n",
    "    # additional test scenarios on your code so check your code carefully.\n",
    "    # *******************************************************************************\n",
    "    \"\"\"Unique words in a string\n",
    "        \n",
    "    >>> text = ('This. is. sample. text. with. several. words. This is more sample text with some different Words')\n",
    "    >>> p2_unique_words(text)\n",
    "    UNIQUE SORTED WORDS:\n",
    "    different\n",
    "    is\n",
    "    more\n",
    "    sample\n",
    "    several\n",
    "    some\n",
    "    text\n",
    "    this\n",
    "    with\n",
    "    words\n",
    "    \"\"\"\n",
    "\n",
    "    # *******************************************************************************\n",
    "    # ENTER YOUR FINAL CHECKED CODE AFTER THIS COMMENT BLOCK\n",
    "    # NOTE:  You may want to check and develop your code in another notebook before\n",
    "    # copying it here. \n",
    "    # YOUR CODE MUST BE CORRECTLY INDENTED OR IT WONT RUN\n",
    "    # *******************************************************************************\n",
    "    \n",
    "    \n",
    "    "
   ]
  },
  {
   "cell_type": "code",
   "execution_count": 4,
   "metadata": {
    "code_folding": [],
    "scrolled": true
   },
   "outputs": [
    {
     "name": "stdout",
     "output_type": "stream",
     "text": [
      "UNIQUE SORTED WORDS:\n",
      "different\n",
      "is\n",
      "more\n",
      "sample\n",
      "several\n",
      "some\n",
      "text\n",
      "this\n",
      "with\n",
      "words\n"
     ]
    }
   ],
   "source": [
    "# Run your code by calling the function \n",
    "# Always test your code to check that you get what you expect\n",
    "if __name__ == '__main__':\n",
    "    text = ('This. is. sample. text. with. several. words. This is more sample text with some different Words')\n",
    "    p2_unique_words(text)"
   ]
  },
  {
   "cell_type": "markdown",
   "metadata": {},
   "source": [
    "## Prob 4. [20 points] Dictionary Manipulations"
   ]
  },
  {
   "cell_type": "markdown",
   "metadata": {},
   "source": [
    "### Algorithm Steps:\n",
    "1. task 1\n",
    "   - bullet \n",
    "2. task 2\n",
    "   - bullet\n",
    "3. ..."
   ]
  },
  {
   "cell_type": "code",
   "execution_count": 19,
   "metadata": {
    "code_folding": []
   },
   "outputs": [],
   "source": [
    "# Code for this Problem is copied into this function that will be run the in main program\n",
    "def p3_Dictionary_Manipulations(d,params):\n",
    "\n",
    "    # *******************************************************************************\n",
    "    # EXPECTED OUTPUT FROM YOUR CODE\n",
    "    #\n",
    "    # The following is the expected output from your code that will be tested for\n",
    "    # By the 'DocTest' module.\n",
    "    # Do not change these lines or the test will fail. Your instructor may run \n",
    "    # additional test scenarios on your code so check your code carefully.\n",
    "    # *******************************************************************************\n",
    "    \"\"\"\n",
    "    >>> d = {'Canada': 'ca', 'United States': 'us', 'Mexico': 'mx'}\n",
    "    >>> params = ['Canada','France','sw','se']\n",
    "    >>> p3_Dictionary_Manipulations(d,params)\n",
    "    Dictionary is:\n",
    "    {'Canada': 'ca', 'United States': 'us', 'Mexico': 'mx'}\n",
    "    <BLANKLINE>\n",
    "    a. Canada in dict:\n",
    "    True\n",
    "    <BLANKLINE>\n",
    "    b. France in dict:\n",
    "    False\n",
    "    <BLANKLINE>\n",
    "    c. Keys and values in dict (key in field width 20):\n",
    "    Canada              ca\n",
    "    United States       us\n",
    "    Mexico              mx\n",
    "    <BLANKLINE>\n",
    "    d. Dict with Sweden set to 'sw':\n",
    "    {'Canada': 'ca', 'United States': 'us', 'Mexico': 'mx', 'Sweden': 'sw'}\n",
    "    <BLANKLINE>\n",
    "    e. Dict with Sweden corrected to 'se':\n",
    "    {'Canada': 'ca', 'United States': 'us', 'Mexico': 'mx', 'Sweden': 'se'}\n",
    "    <BLANKLINE>\n",
    "    f. Reverse mapping using dictionary comprehension:\n",
    "    {'ca': 'Canada', 'us': 'United States', 'mx': 'Mexico', 'se': 'Sweden'}\n",
    "    <BLANKLINE>\n",
    "    g. Reverse mapping uppercase using dictionary comprehension:\n",
    "    {'ca': 'CANADA', 'us': 'UNITED STATES', 'mx': 'MEXICO', 'se': 'SWEDEN'}\n",
    "    <BLANKLINE>\n",
    "    \"\"\"\n",
    "\n",
    "    # *******************************************************************************\n",
    "    # ENTER YOUR FINAL CHECKED CODE AFTER THIS COMMENT BLOCK\n",
    "    # NOTE:  You may want to check and develop your code in another notebook before\n",
    "    # copying it here. \n",
    "    # YOUR CODE MUST BE CORRECTLY INDENTED OR IT WONT RUN\n",
    "    # *******************************************************************************\n",
    "    \n",
    "    \n",
    "    "
   ]
  },
  {
   "cell_type": "code",
   "execution_count": 20,
   "metadata": {
    "code_folding": [],
    "scrolled": true
   },
   "outputs": [
    {
     "name": "stdout",
     "output_type": "stream",
     "text": [
      "Dictionary is:\n",
      "{'Canada': 'ca', 'United States': 'us', 'Mexico': 'mx'}\n",
      "\n",
      "a. Canada in dict:\n",
      "True\n",
      "\n",
      "b. France in dict:\n",
      "False\n",
      "\n",
      "c. Keys and values in dict (key in field width 20):\n",
      "Canada              ca\n",
      "United States       us\n",
      "Mexico              mx\n",
      "\n",
      "d. Dict with Sweden set to 'sw':\n",
      "{'Canada': 'ca', 'United States': 'us', 'Mexico': 'mx', 'Sweden': 'sw'}\n",
      "\n",
      "e. Dict with Sweden corrected to 'se':\n",
      "{'Canada': 'ca', 'United States': 'us', 'Mexico': 'mx', 'Sweden': 'se'}\n",
      "\n",
      "f. Reverse mapping using dictionary comprehension:\n",
      "{'ca': 'Canada', 'us': 'United States', 'mx': 'Mexico', 'se': 'Sweden'}\n",
      "\n",
      "g. Reverse mapping uppercase using dictionary comprehension:\n",
      "{'ca': 'CANADA', 'us': 'UNITED STATES', 'mx': 'MEXICO', 'se': 'SWEDEN'}\n",
      "\n"
     ]
    }
   ],
   "source": [
    "# Run your code by calling the function \n",
    "# Always test your code to check that you get what you expect\n",
    "if __name__ == '__main__':\n",
    "    # set up the dictionary & parameters\n",
    "    d = {'Canada': 'ca', 'United States': 'us', 'Mexico': 'mx'}\n",
    "    params = ['Canada','France','sw','se']\n",
    "\n",
    "    # Call the function to run and print out the scenarios in the script\n",
    "    p3_Dictionary_Manipulations(d,params)"
   ]
  },
  {
   "cell_type": "code",
   "execution_count": 21,
   "metadata": {},
   "outputs": [
    {
     "name": "stdout",
     "output_type": "stream",
     "text": [
      "RUNNING UNIT TESTS - SEE THE LOG FOR FEEDBACK>>>\n",
      "Trying:\n",
      "    text = ('this is sample Text with several words this is more sample text with some different Words')\n",
      "Expecting nothing\n",
      "ok\n",
      "Trying:\n",
      "    p1_word_counts(text)\n",
      "Expecting:\n",
      "    WORD        COUNT\n",
      "    is          2\n",
      "    sample      2\n",
      "    text        2\n",
      "    this        2\n",
      "    with        2\n",
      "    words       2\n",
      "ok\n",
      "Trying:\n",
      "    text = ('how much wood could a wood chuck chuck if a wood chuck could chuck wood')\n",
      "Expecting nothing\n",
      "ok\n",
      "Trying:\n",
      "    p1_word_counts(text)\n",
      "Expecting:\n",
      "    WORD        COUNT\n",
      "    a           2\n",
      "    chuck       4\n",
      "    could       2\n",
      "    wood        4\n",
      "ok\n",
      "Trying:\n",
      "    text = ('this is the time for all good men to come to the aid of their country')\n",
      "Expecting nothing\n",
      "ok\n",
      "Trying:\n",
      "    p1_word_counts(text)\n",
      "Expecting:\n",
      "    WORD        COUNT\n",
      "    the         2\n",
      "    to          2\n",
      "ok\n",
      "Trying:\n",
      "    text = ('This. is. sample. text. with. several. words. This is more sample text with some different Words')\n",
      "Expecting nothing\n",
      "ok\n",
      "Trying:\n",
      "    p2_unique_words(text)\n",
      "Expecting:\n",
      "    UNIQUE SORTED WORDS:\n",
      "    different\n",
      "    is\n",
      "    more\n",
      "    sample\n",
      "    several\n",
      "    some\n",
      "    text\n",
      "    this\n",
      "    with\n",
      "    words\n",
      "ok\n",
      "Trying:\n",
      "    d = {'Canada': 'ca', 'United States': 'us', 'Mexico': 'mx'}\n",
      "Expecting nothing\n",
      "ok\n",
      "Trying:\n",
      "    params = ['Canada','France','sw','se']\n",
      "Expecting nothing\n",
      "ok\n",
      "Trying:\n",
      "    p3_Dictionary_Manipulations(d,params)\n",
      "Expecting:\n",
      "    Dictionary is:\n",
      "    {'Canada': 'ca', 'United States': 'us', 'Mexico': 'mx'}\n",
      "    <BLANKLINE>\n",
      "    a. Canada in dict:\n",
      "    True\n",
      "    <BLANKLINE>\n",
      "    b. France in dict:\n",
      "    False\n",
      "    <BLANKLINE>\n",
      "    c. Keys and values in dict (key in field width 20):\n",
      "    Canada              ca\n",
      "    United States       us\n",
      "    Mexico              mx\n",
      "    <BLANKLINE>\n",
      "    d. Dict with Sweden set to 'sw':\n",
      "    {'Canada': 'ca', 'United States': 'us', 'Mexico': 'mx', 'Sweden': 'sw'}\n",
      "    <BLANKLINE>\n",
      "    e. Dict with Sweden corrected to 'se':\n",
      "    {'Canada': 'ca', 'United States': 'us', 'Mexico': 'mx', 'Sweden': 'se'}\n",
      "    <BLANKLINE>\n",
      "    f. Reverse mapping using dictionary comprehension:\n",
      "    {'ca': 'Canada', 'us': 'United States', 'mx': 'Mexico', 'se': 'Sweden'}\n",
      "    <BLANKLINE>\n",
      "    g. Reverse mapping uppercase using dictionary comprehension:\n",
      "    {'ca': 'CANADA', 'us': 'UNITED STATES', 'mx': 'MEXICO', 'se': 'SWEDEN'}\n",
      "    <BLANKLINE>\n",
      "ok\n",
      "1 items had no tests:\n",
      "    __main__\n",
      "3 items passed all tests:\n",
      "   6 tests in __main__.p1_word_counts\n",
      "   2 tests in __main__.p2_unique_words\n",
      "   3 tests in __main__.p3_Dictionary_Manipulations\n",
      "11 tests in 4 items.\n",
      "11 passed and 0 failed.\n",
      "Test passed.\n"
     ]
    }
   ],
   "source": [
    "# ************************************************************************\n",
    "# FINALLY RUN THIS CELL TO CHECK THAT YOUR CODE MATCHES THE EXPECTED OUTPUT\n",
    "#*************************************************************************\n",
    "# this code checks that your output matches the expected result\n",
    "# continue to test your code until you get an Ok result for your test\n",
    "# the instructor will run this test and possibly others to check your code\n",
    "# Submit your code even if you can't get the tests to run without failures.\n",
    "# The instructor will look at your code and try to spot any errors and provide feedback\n",
    "if __name__ == '__main__':\n",
    "    import doctest\n",
    "    print(\"RUNNING UNIT TESTS - SEE THE LOG FOR FEEDBACK>>>\")\n",
    "    doctest.testmod(verbose=True)"
   ]
  }
 ],
 "metadata": {
  "kernelspec": {
   "display_name": "Python 3",
   "language": "python",
   "name": "python3"
  },
  "language_info": {
   "codemirror_mode": {
    "name": "ipython",
    "version": 3
   },
   "file_extension": ".py",
   "mimetype": "text/x-python",
   "name": "python",
   "nbconvert_exporter": "python",
   "pygments_lexer": "ipython3",
   "version": "3.6.10"
  },
  "toc": {
   "base_numbering": 1,
   "nav_menu": {},
   "number_sections": true,
   "sideBar": true,
   "skip_h1_title": false,
   "title_cell": "Table of Contents",
   "title_sidebar": "Contents",
   "toc_cell": false,
   "toc_position": {},
   "toc_section_display": true,
   "toc_window_display": false
  }
 },
 "nbformat": 4,
 "nbformat_minor": 2
}
